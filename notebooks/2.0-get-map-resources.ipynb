{
 "cells": [
  {
   "cell_type": "markdown",
   "id": "24b232f6-fd48-4923-aa87-20776c6901e1",
   "metadata": {},
   "source": [
    "# 0. Import libraries"
   ]
  },
  {
   "cell_type": "code",
   "execution_count": 1,
   "id": "f5cf48d7-0350-4d2c-9a26-c8e0ff6f1d44",
   "metadata": {},
   "outputs": [],
   "source": [
    "import os\n",
    "import re\n",
    "import sys\n",
    "import time\n",
    "import pickle\n",
    "import importlib\n",
    "import numpy as np\n",
    "import pandas as pd\n",
    "import geopandas as gpd\n",
    "import matplotlib.pyplot as plt\n",
    "\n",
    "import networkx as nx\n",
    "import osmnx as ox\n",
    "\n",
    "# Specify the directory containing the .py modules\n",
    "module_dir = \"../modules\"\n",
    "\n",
    "# Add the directory to the Python path\n",
    "sys.path.append(os.path.abspath(module_dir))"
   ]
  },
  {
   "cell_type": "code",
   "execution_count": 2,
   "id": "04fb59e3-dcba-49c6-af42-573ce170c20d",
   "metadata": {},
   "outputs": [],
   "source": [
    "from map_resources import MapResources"
   ]
  },
  {
   "cell_type": "markdown",
   "id": "9993be45-1d39-406a-8ac6-68780b5abeba",
   "metadata": {},
   "source": [
    "# 1. Extract Graph Networks\n",
    "* * *\n",
    "We mainly use the `osmnx` Python library to query and locally save the graph networks of roads (and walkable paths) that will be used to build our network of schools. For roads or paths that `osmnx` seem to not cover, we use <a href=\"https://overpass-turbo.eu/\">overpass-turbo</a>. The query used in overpass is included at the end of this section.\n",
    "\n",
    "Based on experience, only specialized and high-power machines are able to query the graph network of the entire Philippines in one call. Given the limitations of the machine used in this project, we broke our `osmnx` graph network queries by region. Note that despite breaking our queries by region, we highly advise to separate the Python code for querying in separate cells - as in this section."
   ]
  },
  {
   "cell_type": "markdown",
   "id": "ece426d0-8b10-44ec-a6c4-c2c650d84bae",
   "metadata": {},
   "source": [
    "## 1.1. Load PH Shapefiles\n",
    "The shapefiles of regions used as input to `osmnx` when querying graph networks were sourced from this <a href='https://github.com/altcoder/philippines-psgc-shapefiles'>github repo</a>.\n",
    "\n",
    "We load the Philippine shapefiles dataset that follows the PSA PSGC that has been preprocessed and rearranged by `map_resources` module."
   ]
  },
  {
   "cell_type": "code",
   "execution_count": 3,
   "id": "54e22185-2079-4f8a-a994-0299fa47494a",
   "metadata": {},
   "outputs": [
    {
     "name": "stdout",
     "output_type": "stream",
     "text": [
      "(42048, 14)\n",
      "EPSG:4326\n"
     ]
    },
    {
     "data": {
      "text/html": [
       "<div>\n",
       "<style scoped>\n",
       "    .dataframe tbody tr th:only-of-type {\n",
       "        vertical-align: middle;\n",
       "    }\n",
       "\n",
       "    .dataframe tbody tr th {\n",
       "        vertical-align: top;\n",
       "    }\n",
       "\n",
       "    .dataframe thead th {\n",
       "        text-align: right;\n",
       "    }\n",
       "</style>\n",
       "<table border=\"1\" class=\"dataframe\">\n",
       "  <thead>\n",
       "    <tr style=\"text-align: right;\">\n",
       "      <th></th>\n",
       "      <th>adm1_psgc</th>\n",
       "      <th>adm1_psgc_name</th>\n",
       "      <th>adm2_psgc</th>\n",
       "      <th>adm2_psgc_name</th>\n",
       "      <th>adm3_psgc</th>\n",
       "      <th>adm3_psgc_name</th>\n",
       "      <th>adm4_psgc</th>\n",
       "      <th>adm4_psgc_name</th>\n",
       "      <th>city_class</th>\n",
       "      <th>geo_level</th>\n",
       "      <th>inc_class</th>\n",
       "      <th>shape_sqkm</th>\n",
       "      <th>urb_rur</th>\n",
       "      <th>geometry</th>\n",
       "    </tr>\n",
       "  </thead>\n",
       "  <tbody>\n",
       "    <tr>\n",
       "      <th>0</th>\n",
       "      <td>0100000000</td>\n",
       "      <td>Region I (Ilocos Region)</td>\n",
       "      <td>0102800000</td>\n",
       "      <td>Ilocos Norte</td>\n",
       "      <td>0102801000</td>\n",
       "      <td>Adams</td>\n",
       "      <td>0102801001</td>\n",
       "      <td>Adams</td>\n",
       "      <td>None</td>\n",
       "      <td>Bgy</td>\n",
       "      <td>None</td>\n",
       "      <td>111.143026</td>\n",
       "      <td>None</td>\n",
       "      <td>POLYGON ((120.92068 18.51462, 120.94626 18.511...</td>\n",
       "    </tr>\n",
       "    <tr>\n",
       "      <th>1</th>\n",
       "      <td>0100000000</td>\n",
       "      <td>Region I (Ilocos Region)</td>\n",
       "      <td>0102800000</td>\n",
       "      <td>Ilocos Norte</td>\n",
       "      <td>0102802000</td>\n",
       "      <td>Bacarra</td>\n",
       "      <td>0102802001</td>\n",
       "      <td>Bani</td>\n",
       "      <td>None</td>\n",
       "      <td>Bgy</td>\n",
       "      <td>None</td>\n",
       "      <td>1.759757</td>\n",
       "      <td>None</td>\n",
       "      <td>POLYGON ((120.61278 18.27590, 120.61282 18.275...</td>\n",
       "    </tr>\n",
       "  </tbody>\n",
       "</table>\n",
       "</div>"
      ],
      "text/plain": [
       "    adm1_psgc            adm1_psgc_name   adm2_psgc adm2_psgc_name  \\\n",
       "0  0100000000  Region I (Ilocos Region)  0102800000   Ilocos Norte   \n",
       "1  0100000000  Region I (Ilocos Region)  0102800000   Ilocos Norte   \n",
       "\n",
       "    adm3_psgc adm3_psgc_name   adm4_psgc adm4_psgc_name city_class geo_level  \\\n",
       "0  0102801000          Adams  0102801001          Adams       None       Bgy   \n",
       "1  0102802000        Bacarra  0102802001           Bani       None       Bgy   \n",
       "\n",
       "  inc_class  shape_sqkm urb_rur  \\\n",
       "0      None  111.143026    None   \n",
       "1      None    1.759757    None   \n",
       "\n",
       "                                            geometry  \n",
       "0  POLYGON ((120.92068 18.51462, 120.94626 18.511...  \n",
       "1  POLYGON ((120.61278 18.27590, 120.61282 18.275...  "
      ]
     },
     "metadata": {},
     "output_type": "display_data"
    },
    {
     "name": "stdout",
     "output_type": "stream",
     "text": [
      "CPU times: user 407 ms, sys: 338 ms, total: 745 ms\n",
      "Wall time: 2.93 s\n"
     ]
    }
   ],
   "source": [
    "%%time\n",
    "# We initialize the class that also preloads and reorganizes PH shapefiles\n",
    "mr = MapResources(preloaded=True)\n",
    "\n",
    "# Locations/geographies that do not have geometries were dropped\n",
    "gpd_gadm = mr.gadm.copy()\n",
    "\n",
    "print(gpd_gadm.shape)\n",
    "print(gpd_gadm.crs)        # The crs of our shapefiles should be 4326\n",
    "display(gpd_gadm.head(2))"
   ]
  },
  {
   "cell_type": "markdown",
   "id": "c8a7555f-db44-44b1-8e30-3363377f3a40",
   "metadata": {},
   "source": [
    "We display the 17 PH regions that we will use to query and save graph networks from osmnx."
   ]
  },
  {
   "cell_type": "code",
   "execution_count": 4,
   "id": "46aa0e63-d42d-4c51-ae41-497c1824602f",
   "metadata": {},
   "outputs": [
    {
     "data": {
      "text/plain": [
       "[('0100000000', 'Region I (Ilocos Region)'),\n",
       " ('0200000000', 'Region II (Cagayan Valley)'),\n",
       " ('0300000000', 'Region III (Central Luzon)'),\n",
       " ('0400000000', 'Region IV-A (CALABARZON)'),\n",
       " ('0500000000', 'Region V (Bicol Region)'),\n",
       " ('0600000000', 'Region VI (Western Visayas)'),\n",
       " ('0700000000', 'Region VII (Central Visayas)'),\n",
       " ('0800000000', 'Region VIII (Eastern Visayas)'),\n",
       " ('0900000000', 'Region IX (Zamboanga Peninsula)'),\n",
       " ('1000000000', 'Region X (Northern Mindanao)'),\n",
       " ('1100000000', 'Region XI (Davao Region)'),\n",
       " ('1200000000', 'Region XII (SOCCSKSARGEN)'),\n",
       " ('1300000000', 'National Capital Region (NCR)'),\n",
       " ('1400000000', 'Cordillera Administrative Region (CAR)'),\n",
       " ('1600000000', 'Region XIII (Caraga)'),\n",
       " ('1700000000', 'MIMAROPA Region'),\n",
       " ('1900000000', 'Bangsamoro Autonomous Region In Muslim Mindanao (BARMM)')]"
      ]
     },
     "metadata": {},
     "output_type": "display_data"
    }
   ],
   "source": [
    "unique_regions = (\n",
    "    gpd_gadm.groupby(['adm1_psgc','adm1_psgc_name'])['adm2_psgc']\n",
    "    .size()\n",
    "    .index.tolist()\n",
    ")\n",
    "display(unique_regions)"
   ]
  },
  {
   "cell_type": "markdown",
   "id": "cfab9486-4976-488c-8bae-0ab90ef00d1b",
   "metadata": {},
   "source": [
    "## 1.2. Query Graph Networks"
   ]
  },
  {
   "cell_type": "markdown",
   "id": "83a49412-ac28-4f2c-81f4-afd8b51a4a8c",
   "metadata": {},
   "source": [
    "### Helper functions\n",
    "We write functions that will facilitate our querying of the graph networks of our regions."
   ]
  },
  {
   "cell_type": "code",
   "execution_count": 5,
   "id": "1a7220a3-898d-4067-b44f-b64e0cd76a0f",
   "metadata": {},
   "outputs": [],
   "source": [
    "def save_pickle(sv_path, G):\n",
    "    \"\"\"\n",
    "    Saves a Python object (e.g., a graph network) to a file using pickle.\n",
    "\n",
    "    Args:\n",
    "        sv_path (str): The full path to the file where the object will be saved.\n",
    "                       This should include the filename and extension (e.g., 'data/graph.pkl').\n",
    "        G (object): The Python object to be serialized and saved.\n",
    "\n",
    "    Returns:\n",
    "        bool: True if the object was successfully saved.\n",
    "    \"\"\"\n",
    "    with open(sv_path, 'wb') as file:\n",
    "        pickle.dump(G, file)\n",
    "    return True\n",
    "\n",
    "\n",
    "def load_pickle(fpath):\n",
    "    \"\"\"\n",
    "    Loads a Python object from a pickle file.\n",
    "\n",
    "    Args:\n",
    "        fpath (str): The full path to the pickle file to be loaded.\n",
    "\n",
    "    Returns:\n",
    "        object: The deserialized Python object from the file.\n",
    "    \"\"\"\n",
    "    with open(fpath, 'rb') as file:\n",
    "        graph_network = pickle.load(file)\n",
    "    return graph_network\n",
    "\n",
    "\n",
    "def save_osmnx_network(unique_regions, ix, gpd_gadm, dir_savepath, depth=3):\n",
    "    \"\"\"\n",
    "    Extracts a road network using OSMnx for a specified administrative region\n",
    "    and its adjacent geographies up to a certain depth, then saves the network\n",
    "    to a pickle file.\n",
    "\n",
    "    This function iterates through administrative regions, identifies the target\n",
    "    region and its neighbors, retrieves the corresponding geographic shapes,\n",
    "    downloads the OpenStreetMap network data for that area, and saves the\n",
    "    resulting graph.\n",
    "\n",
    "    Args:\n",
    "        unique_regions (list or tuple): A list or tuple containing unique administrative\n",
    "                                   region identifiers. Each element is expected to\n",
    "                                   be a tuple or list like (PSGC_code, English_name).\n",
    "        ix (int): The index of the target administrative region within `unique_regions`\n",
    "                  to be processed in the current iteration.\n",
    "        gpd_gadm (geopandas.GeoDataFrame): A GeoDataFrame containing administrative\n",
    "                                            boundary data, likely from GADM,\n",
    "                                            used to retrieve geographical shapes\n",
    "                                            and adjacency information.\n",
    "        dir_savepath (str): The directory path where the extracted graph network\n",
    "                            (as a pickle file) will be saved. The directory will\n",
    "                            be created if it does not exist.\n",
    "        depth (int, optional): The maximum depth to search for adjacent geographies.\n",
    "                               A depth of 0 means only the target region, 1 means\n",
    "                               target + direct neighbors, and so on. Defaults to 3.\n",
    "\n",
    "    Returns:\n",
    "        None: The function saves the graph network to a file and prints progress,\n",
    "              but does not return any value.\n",
    "\n",
    "    Raises:\n",
    "        Exception: Catches and prints general exceptions that might occur during\n",
    "                   network extraction or saving.\n",
    "    \"\"\"\n",
    "    iter_stime = time.time()\n",
    "    adm1_psgc, adm1_en = unique_regions[ix]\n",
    "    \n",
    "    print(f\"At region: {adm1_en}\")\n",
    "    max_depth = depth\n",
    "\n",
    "    try:\n",
    "        print(f\"Getting target and adjacent geographies with depth {max_depth}\")\n",
    "        geo_results = mr.get_adjacent_geographies(\n",
    "            gpd_gadm=gpd_gadm,\n",
    "            target_psgc=adm1_psgc,\n",
    "            max_depth=max_depth\n",
    "        )\n",
    "\n",
    "        shape_osmnx = geo_results['search_shape_complete']\n",
    "        graph_network = ox.graph_from_polygon(\n",
    "            shape_osmnx, network_type='walk', truncate_by_edge=True, retain_all=True,\n",
    "        )\n",
    "\n",
    "        print(f\"Saving extracted graph network.\")\n",
    "        os.makedirs(dir_savepath, exist_ok=True) # Ensure save directory exists\n",
    "\n",
    "        sv_label = f'{adm1_en}.pkl'\n",
    "        sv_path = os.path.join(dir_savepath, sv_label)\n",
    "        save_pickle(sv_path, graph_network)\n",
    "\n",
    "        iter_etime = time.time() - iter_stime # Corrected calculation for elapsed time\n",
    "        print(f\"Time elapsed for iteration: {iter_etime:.2f} seconds\")\n",
    "\n",
    "    except Exception as e:\n",
    "        print(f\"An error occurred for region {adm1_en}: {e}\")"
   ]
  },
  {
   "cell_type": "markdown",
   "id": "8ae24172-f1d2-4880-b39f-3852998462d9",
   "metadata": {},
   "source": [
    "### Query by Region\n",
    "We use our defined functions above to query and save the graph networks of our regions in our local machine at `../datasets/networks/regional_drive_graphs`.\n",
    "\n",
    "We will only run and show the output of the function `save_osmnx_network` for Region I (Ilocos Region) only. This is to demonstrate the output of the aforementioned function and the possible runtime of querying graph networks from osmnx.\n",
    "\n",
    "<strong>Important note</strong>: the regional graph networks should exist in our local machine in `../datasets/networks/regional_drive_graphs` in order for us to progress with the project. Therefore, if the 17 regional graph networks does not yet exist in your local machine, make sure that you run the code cells in the `Query Other Regions` section below."
   ]
  },
  {
   "cell_type": "code",
   "execution_count": 6,
   "id": "bcda0485-fbf4-4b42-8198-3e5c84040ae4",
   "metadata": {},
   "outputs": [],
   "source": [
    "# We establish the path of the local directory where we will store our graph drive networks \n",
    "path = '../datasets/networks/regional_drive_graphs'"
   ]
  },
  {
   "cell_type": "code",
   "execution_count": 14,
   "id": "3baec22f-0376-4354-9de8-7bd082743901",
   "metadata": {},
   "outputs": [
    {
     "name": "stdout",
     "output_type": "stream",
     "text": [
      "At region: Region I (Ilocos Region)\n",
      "Getting target and adjacent geographies with depth 3\n",
      "Finding adjacent geographies for PSGC 0100000000 with max_depth=3\n",
      "Detected administrative level: region\n",
      "Finding adjacent areas at depth 1...\n",
      "Found 154 adjacent areas at depth 1\n",
      "Finding adjacent areas at depth 2...\n",
      "Found 231 adjacent areas at depth 2\n",
      "Finding adjacent areas at depth 3...\n",
      "Found 270 adjacent areas at depth 3\n",
      "Geography processing completed in 4.92 seconds\n"
     ]
    },
    {
     "name": "stderr",
     "output_type": "stream",
     "text": [
      "/opt/conda/lib/python3.11/site-packages/osmnx/_overpass.py:254: UserWarning: This area is 16 times your configured Overpass max query area size. It will automatically be divided up into multiple sub-queries accordingly. This may take a long time.\n",
      "  multi_poly_proj = utils_geo._consolidate_subdivide_geometry(poly_proj)\n"
     ]
    },
    {
     "name": "stdout",
     "output_type": "stream",
     "text": [
      "Saving extracted graph network.\n",
      "Time elapsed for iteration: 227.48 seconds\n"
     ]
    }
   ],
   "source": [
    "save_osmnx_network(\n",
    "    unique_regions,\n",
    "    ix=0,              # query graph network of Region I (Ilocos Region)\n",
    "    gpd_gadm=gpd_gadm,\n",
    "    dir_savepath=path,\n",
    "    depth=3\n",
    ")"
   ]
  },
  {
   "cell_type": "markdown",
   "id": "e1dc5af9-b551-481e-b61b-7faf7f2fad8d",
   "metadata": {},
   "source": [
    "We plot our graph network to inspect if we extracted from the correct region. "
   ]
  },
  {
   "cell_type": "code",
   "execution_count": null,
   "id": "5e5b6b44-1d03-455f-822c-28dcc8b0eddc",
   "metadata": {},
   "outputs": [],
   "source": [
    "# %%time\n",
    "# fpath = '../datasets/networks/regional_drive_graphs/Region I (Ilocos Region).pkl'\n",
    "# g_net = load_pickle(fpath)\n",
    "\n",
    "# # For sanity, we plot our geographies, schools, and subgraph road network\n",
    "# fig, ax = ox.plot_graph(\n",
    "#     g_net, figsize=(10,10),\n",
    "#     node_size=.5, edge_linewidth=.5,\n",
    "#     bgcolor='none', show=False, close=False,\n",
    "#     node_zorder=4, edge_color='black',\n",
    "# )\n",
    "\n",
    "# plt.savefig(\n",
    "#     '../output/2.0-region1-graph-network.jpg',\n",
    "#     dpi=100, transparent=False, bbox_inches='tight'\n",
    "# )\n",
    "\n",
    "# plt.show()\n",
    "# plt.close() # Run time was: 17.7 seconds"
   ]
  },
  {
   "cell_type": "markdown",
   "id": "ff003f6f-ff3c-498b-8336-c090edd95c98",
   "metadata": {},
   "source": [
    "To minimize the file size of this notebook, we saved the output of the cell above as an image and display it in this markdown cell.\n",
    "\n",
    "<img src=\"../references/2.0-region1-graph-network.jpg\" height=\"0\" weight=\"0\">"
   ]
  },
  {
   "cell_type": "markdown",
   "id": "eedc68d2-a38f-44e9-be3d-5d8f65a4d9fd",
   "metadata": {},
   "source": [
    "### Query Other Regions"
   ]
  },
  {
   "cell_type": "code",
   "execution_count": null,
   "id": "be0dd09c-83be-4f6c-8deb-56884526b6c5",
   "metadata": {},
   "outputs": [],
   "source": [
    "# save_osmnx_network(\n",
    "#     unique_regions,\n",
    "#     ix=1,              # query graph network of Region II (Cagayan Valley)\n",
    "#     gpd_gadm=gpd_gadm,\n",
    "#     dir_savepath=path,\n",
    "#     depth=3\n",
    "# )"
   ]
  },
  {
   "cell_type": "code",
   "execution_count": null,
   "id": "c348eef9-7d7a-4e4c-a8b4-149efbd18849",
   "metadata": {},
   "outputs": [],
   "source": [
    "# save_osmnx_network(\n",
    "#     unique_regions,\n",
    "#     ix=2,              # query graph network of Region III (Central Luzon)\n",
    "#     gpd_gadm=gpd_gadm,\n",
    "#     dir_savepath=path,\n",
    "#     depth=3\n",
    "# )"
   ]
  },
  {
   "cell_type": "code",
   "execution_count": null,
   "id": "a7c872e5-bea6-4e72-b528-6dd0b54c6766",
   "metadata": {},
   "outputs": [],
   "source": [
    "# save_osmnx_network(\n",
    "#     unique_regions,\n",
    "#     ix=3,              # query graph network of Region IV-A (CALABARZON)\n",
    "#     gpd_gadm=gpd_gadm,\n",
    "#     dir_savepath=path,\n",
    "#     depth=3\n",
    "# )"
   ]
  },
  {
   "cell_type": "code",
   "execution_count": null,
   "id": "63567e5a-ec08-4d88-b0d6-cc3b0a76610c",
   "metadata": {},
   "outputs": [],
   "source": [
    "# save_osmnx_network(\n",
    "#     unique_regions,\n",
    "#     ix=4,              # query graph network of Region V (Bicol Region)\n",
    "#     gpd_gadm=gpd_gadm,\n",
    "#     dir_savepath=path,\n",
    "#     depth=3\n",
    "# )"
   ]
  },
  {
   "cell_type": "code",
   "execution_count": null,
   "id": "2a76a032-8d29-4d90-977e-aced3af97d0b",
   "metadata": {},
   "outputs": [],
   "source": [
    "# save_osmnx_network(\n",
    "#     unique_regions,\n",
    "#     ix=5,              # query graph network of Region VI (Western Visayas)\n",
    "#     gpd_gadm=gpd_gadm,\n",
    "#     dir_savepath=path,\n",
    "#     depth=3\n",
    "# )"
   ]
  },
  {
   "cell_type": "code",
   "execution_count": null,
   "id": "64d3cf15-cab9-46d5-bdd6-562d07763ac4",
   "metadata": {},
   "outputs": [],
   "source": [
    "# save_osmnx_network(\n",
    "#     unique_regions,\n",
    "#     ix=6,              # query graph network of Region VII (Central Visayas)\n",
    "#     gpd_gadm=gpd_gadm,\n",
    "#     dir_savepath=path,\n",
    "#     depth=3\n",
    "# )"
   ]
  },
  {
   "cell_type": "code",
   "execution_count": null,
   "id": "409ca522-77a9-4fdf-acab-976fdc03a8c3",
   "metadata": {},
   "outputs": [],
   "source": [
    "# save_osmnx_network(\n",
    "#     unique_regions,\n",
    "#     ix=7,              # query graph network of Region VIII (Eastern Visayas)\n",
    "#     gpd_gadm=gpd_gadm,\n",
    "#     dir_savepath=path,\n",
    "#     depth=3\n",
    "# )"
   ]
  },
  {
   "cell_type": "code",
   "execution_count": null,
   "id": "70fe00d4-51e0-450a-8dfc-140cc4b91e93",
   "metadata": {},
   "outputs": [],
   "source": [
    "# save_osmnx_network(\n",
    "#     unique_regions,\n",
    "#     ix=8,              # query graph network of Region IX (Zamboanga Peninsula)\n",
    "#     gpd_gadm=gpd_gadm,\n",
    "#     dir_savepath=path,\n",
    "#     depth=3\n",
    "# )"
   ]
  },
  {
   "cell_type": "code",
   "execution_count": null,
   "id": "22fb6538-7c0c-40d7-bb08-e1edc6aa29ef",
   "metadata": {},
   "outputs": [],
   "source": [
    "# save_osmnx_network(\n",
    "#     unique_regions,\n",
    "#     ix=9,              # query graph network of Region X (Northern Mindanao)\n",
    "#     gpd_gadm=gpd_gadm,\n",
    "#     dir_savepath=path,\n",
    "#     depth=3\n",
    "# )"
   ]
  },
  {
   "cell_type": "code",
   "execution_count": null,
   "id": "feb98ea1-ae59-4f64-8947-2f41739319c7",
   "metadata": {},
   "outputs": [],
   "source": [
    "# save_osmnx_network(\n",
    "#     unique_regions,\n",
    "#     ix=10,              # query graph network of Region XI (Davao Region)\n",
    "#     gpd_gadm=gpd_gadm,\n",
    "#     dir_savepath=path,\n",
    "#     depth=3\n",
    "# )"
   ]
  },
  {
   "cell_type": "code",
   "execution_count": null,
   "id": "5e77af41-56f2-47e1-9bdd-535297db7013",
   "metadata": {},
   "outputs": [],
   "source": [
    "# save_osmnx_network(\n",
    "#     unique_regions,\n",
    "#     ix=11,              # query graph network of Region XII (SOCCSKSARGEN)\n",
    "#     gpd_gadm=gpd_gadm,\n",
    "#     dir_savepath=path,\n",
    "#     depth=3\n",
    "# )"
   ]
  },
  {
   "cell_type": "code",
   "execution_count": null,
   "id": "84700e00-11da-4d99-a5fb-a1dec2cfddc5",
   "metadata": {},
   "outputs": [],
   "source": [
    "# save_osmnx_network(\n",
    "#     unique_regions,\n",
    "#     ix=12,              # query graph network of National Capital Region (NCR)')\n",
    "#     gpd_gadm=gpd_gadm,\n",
    "#     dir_savepath=path,\n",
    "#     depth=3\n",
    "# )"
   ]
  },
  {
   "cell_type": "code",
   "execution_count": null,
   "id": "771ffa9d-afe4-4bd8-9551-e00dde8462a2",
   "metadata": {},
   "outputs": [],
   "source": [
    "# # query graph network of Cordillera Administrative Region (CAR)\n",
    "# save_osmnx_network(\n",
    "#     unique_regions,\n",
    "#     ix=13,\n",
    "#     gpd_gadm=gpd_gadm,\n",
    "#     dir_savepath=path,\n",
    "#     depth=3\n",
    "# )"
   ]
  },
  {
   "cell_type": "code",
   "execution_count": null,
   "id": "107e506c-7ff8-49ec-8976-a5905a477e9d",
   "metadata": {},
   "outputs": [],
   "source": [
    "# save_osmnx_network(\n",
    "#     unique_regions,\n",
    "#     ix=14,              # query graph network of Region XIII (Caraga)\n",
    "#     gpd_gadm=gpd_gadm,\n",
    "#     dir_savepath=path,\n",
    "#     depth=3\n",
    "# )"
   ]
  },
  {
   "cell_type": "code",
   "execution_count": null,
   "id": "f79f2dad-bf3f-41b0-96ef-7be43195fb57",
   "metadata": {},
   "outputs": [],
   "source": [
    "# save_osmnx_network(\n",
    "#     unique_regions,\n",
    "#     ix=15,              # query graph network of MIMAROPA Region\n",
    "#     gpd_gadm=gpd_gadm,\n",
    "#     dir_savepath=path,\n",
    "#     depth=3\n",
    "# )"
   ]
  },
  {
   "cell_type": "code",
   "execution_count": null,
   "id": "96c62a81-55eb-49b7-90c7-616f0a749af2",
   "metadata": {},
   "outputs": [],
   "source": [
    "# # query graph network of Bangsamoro Autonomous Region In Muslim Mindanao (BARMM)\n",
    "# save_osmnx_network(\n",
    "#     unique_regions,\n",
    "#     ix=16,\n",
    "#     gpd_gadm=gpd_gadm,\n",
    "#     dir_savepath=path,\n",
    "#     depth=3\n",
    "# )"
   ]
  },
  {
   "cell_type": "markdown",
   "id": "d4c1d540-6337-4acf-b8ba-23e2078dc9b9",
   "metadata": {},
   "source": [
    "We can run the code block below to visually inspect the drive graph network we were able to query using osmnx."
   ]
  },
  {
   "cell_type": "code",
   "execution_count": null,
   "id": "e9e2d386-d366-49f3-bbfa-46033ac29233",
   "metadata": {},
   "outputs": [],
   "source": [
    "# %%time\n",
    "# fpath = '../datasets/networks/regional_drive_graphs/MIMAROPA Region.pkl' \n",
    "# g_mim = load_pickle(fpath)\n",
    "\n",
    "# fig, ax = ox.plot_graph(\n",
    "#     g_mim, figsize=(8,8),\n",
    "#     node_size=.25, edge_linewidth=.25,\n",
    "#     bgcolor='none', show=False, close=False,\n",
    "#     node_zorder=2\n",
    "# )\n",
    "\n",
    "# plt.show()\n",
    "# plt.close()"
   ]
  },
  {
   "cell_type": "code",
   "execution_count": null,
   "id": "de8895f4-e495-4f3c-9b11-c3d87b43ddef",
   "metadata": {},
   "outputs": [],
   "source": []
  },
  {
   "cell_type": "markdown",
   "id": "3d6a3f49-5e27-4b13-a545-a9cce61eb060",
   "metadata": {},
   "source": [
    "## Region IV-A"
   ]
  },
  {
   "cell_type": "raw",
   "id": "2f7b4048-4270-42cc-80ad-21e59f1c9020",
   "metadata": {},
   "source": [
    "//Walking network for Polillo Islands (Polillo, Palasan, Patnanongan, Jomalig) - CALABARZON\n",
    "//[date:\"2020-05-31T24:00:00Z+8\"]\n",
    "[out:json][timeout:300];\n",
    "\n",
    "// Define bounding box covering Polillo, Palasan, Patnanongan, Jomalig, and Balesin islands\n",
    "// With 0.05° padding around islands, extra padding on north side, extended south for Balesin\n",
    "// North: 15.05°N, South: 14.35°N, West: 121.75°E, East: 122.45°E\n",
    "(\n",
    "  // Dedicated pedestrian infrastructure\n",
    "  way[\"highway\"=\"footway\"](14.35,121.75,15.05,122.45);\n",
    "  way[\"highway\"=\"path\"](14.35,121.75,15.05,122.45);\n",
    "  way[\"highway\"=\"pedestrian\"](14.35,121.75,15.05,122.45);\n",
    "  way[\"highway\"=\"steps\"](14.35,121.75,15.05,122.45);\n",
    "  way[\"highway\"=\"cycleway\"](14.35,121.75,15.05,122.45);\n",
    "  way[\"highway\"=\"bridleway\"](14.35,121.75,15.05,122.45);\n",
    "  way[\"highway\"=\"track\"](14.35,121.75,15.05,122.45);\n",
    "  \n",
    "  // All roads (generally walkable unless explicitly prohibited)\n",
    "  way[\"highway\"=\"living_street\"](14.35,121.75,15.05,122.45);\n",
    "  way[\"highway\"=\"residential\"](14.35,121.75,15.05,122.45);\n",
    "  way[\"highway\"=\"unclassified\"](14.35,121.75,15.05,122.45);\n",
    "  way[\"highway\"=\"tertiary\"](14.35,121.75,15.05,122.45);\n",
    "  way[\"highway\"=\"tertiary_link\"](14.35,121.75,15.05,122.45);\n",
    "  way[\"highway\"=\"secondary\"](14.35,121.75,15.05,122.45);\n",
    "  way[\"highway\"=\"secondary_link\"](14.35,121.75,15.05,122.45);\n",
    "  way[\"highway\"=\"primary\"](14.35,121.75,15.05,122.45);\n",
    "  way[\"highway\"=\"primary_link\"](14.35,121.75,15.05,122.45);\n",
    "  way[\"highway\"=\"trunk\"](14.35,121.75,15.05,122.45);\n",
    "  way[\"highway\"=\"trunk_link\"](14.35,121.75,15.05,122.45);\n",
    "  way[\"highway\"=\"service\"](14.35,121.75,15.05,122.45);\n",
    "  way[\"highway\"=\"road\"](14.35,121.75,15.05,122.45);\n",
    "  way[\"highway\"=\"motorway\"](14.35,121.75,15.05,122.45);\n",
    "  way[\"highway\"=\"motorway_link\"](14.35,121.75,15.05,122.45);\n",
    "  way[\"highway\"=\"living_street\"](14.35,121.75,15.05,122.45);\n",
    "  \n",
    "  // Only exclude if explicitly prohibited for pedestrians\n",
    ");\n",
    "// print results\n",
    "out geom;\n",
    ">;\n",
    "out skel qt;"
   ]
  },
  {
   "cell_type": "markdown",
   "id": "3c94dc4e-c101-42e0-8c9c-3e954280912a",
   "metadata": {},
   "source": [
    "## Region IV-B"
   ]
  },
  {
   "cell_type": "raw",
   "id": "76e6ace3-3bd2-4df0-88f5-c277327ea7b1",
   "metadata": {},
   "source": [
    "//Walking network in MIMAROPA region, Philippines (loose criteria)\n",
    "//[date:\"2020-05-31T24:00:00Z+8\"]\n",
    "[out:json][timeout:300];\n",
    "// fetch area \"MIMAROPA\" to search in\n",
    "{{geocodeArea:MIMAROPA}}->.searchArea;\n",
    "// gather results\n",
    "(\n",
    "  // Dedicated pedestrian infrastructure\n",
    "  way[\"highway\"=\"footway\"](area.searchArea);\n",
    "  way[\"highway\"=\"path\"](area.searchArea);\n",
    "  way[\"highway\"=\"pedestrian\"](area.searchArea);\n",
    "  way[\"highway\"=\"steps\"](area.searchArea);\n",
    "  way[\"highway\"=\"cycleway\"](area.searchArea);\n",
    "  way[\"highway\"=\"bridleway\"](area.searchArea);\n",
    "  way[\"highway\"=\"track\"](area.searchArea);\n",
    "  \n",
    "  // All roads (generally walkable unless explicitly prohibited)\n",
    "  way[\"highway\"=\"living_street\"](area.searchArea);\n",
    "  way[\"highway\"=\"residential\"](area.searchArea);\n",
    "  way[\"highway\"=\"unclassified\"](area.searchArea);\n",
    "  way[\"highway\"=\"tertiary\"](area.searchArea);\n",
    "  way[\"highway\"=\"tertiary_link\"](area.searchArea);\n",
    "  way[\"highway\"=\"secondary\"](area.searchArea);\n",
    "  way[\"highway\"=\"secondary_link\"](area.searchArea);\n",
    "  way[\"highway\"=\"primary\"](area.searchArea);\n",
    "  way[\"highway\"=\"primary_link\"](area.searchArea);\n",
    "  way[\"highway\"=\"trunk\"](area.searchArea);\n",
    "  way[\"highway\"=\"trunk_link\"](area.searchArea);\n",
    "  way[\"highway\"=\"service\"](area.searchArea);\n",
    "  way[\"highway\"=\"road\"](area.searchArea);\n",
    "\n",
    ") \n",
    "// print results\n",
    "out geom;\n",
    ">;\n",
    "out skel qt;"
   ]
  },
  {
   "cell_type": "markdown",
   "id": "f6bf677a-34c1-49b3-aac1-72468bb29ef0",
   "metadata": {},
   "source": [
    "## BARMM"
   ]
  },
  {
   "cell_type": "raw",
   "id": "e2736623-bb8b-4afa-a6a5-2c25fa14de72",
   "metadata": {},
   "source": [
    "//Drive network in BARMM (Bangsamoro Autonomous Region in Muslim Mindanao), Philippines\n",
    "//Including explicit coverage for Jolo island\n",
    "//[date:\"2020-05-31T24:00:00Z+8\"]\n",
    "[out:json][timeout:600];\n",
    "\n",
    "// fetch area \"BARMM\" to search in\n",
    "{{geocodeArea:BARMM}}->.searchArea;\n",
    "\n",
    "// Also include specific area for Jolo island to ensure coverage\n",
    "{{geocodeArea:Sulu}}->.joloArea;\n",
    "\n",
    "// gather results for driveable roads from both areas\n",
    "(\n",
    "  // Major highways and arterials - BARMM\n",
    "  way[\"highway\"=\"motorway\"](area.searchArea);\n",
    "  way[\"highway\"=\"motorway_link\"](area.searchArea);\n",
    "  way[\"highway\"=\"trunk\"](area.searchArea);\n",
    "  way[\"highway\"=\"trunk_link\"](area.searchArea);\n",
    "  way[\"highway\"=\"primary\"](area.searchArea);\n",
    "  way[\"highway\"=\"primary_link\"](area.searchArea);\n",
    "  way[\"highway\"=\"secondary\"](area.searchArea);\n",
    "  way[\"highway\"=\"secondary_link\"](area.searchArea);\n",
    "  way[\"highway\"=\"tertiary\"](area.searchArea);\n",
    "  way[\"highway\"=\"tertiary_link\"](area.searchArea);\n",
    "  \n",
    "  // Local and residential roads - BARMM\n",
    "  way[\"highway\"=\"unclassified\"](area.searchArea);\n",
    "  way[\"highway\"=\"residential\"](area.searchArea);\n",
    "  way[\"highway\"=\"living_street\"](area.searchArea);\n",
    "  way[\"highway\"=\"service\"](area.searchArea);\n",
    "  way[\"highway\"=\"road\"](area.searchArea);\n",
    "  \n",
    "  // Unpaved but driveable roads - BARMM\n",
    "  way[\"highway\"=\"track\"][\"motor_vehicle\"!=\"no\"](area.searchArea);\n",
    "  way[\"highway\"=\"track\"][\"access\"!=\"no\"](area.searchArea);\n",
    "  \n",
    "  // Include ways explicitly marked as driveable - BARMM\n",
    "  way[\"motor_vehicle\"=\"yes\"](area.searchArea);\n",
    "  way[\"access\"=\"yes\"][\"highway\"](area.searchArea);\n",
    "  \n",
    "  // Major highways and arterials - Jolo island\n",
    "  way[\"highway\"=\"motorway\"](area.joloArea);\n",
    "  way[\"highway\"=\"motorway_link\"](area.joloArea);\n",
    "  way[\"highway\"=\"trunk\"](area.joloArea);\n",
    "  way[\"highway\"=\"trunk_link\"](area.joloArea);\n",
    "  way[\"highway\"=\"primary\"](area.joloArea);\n",
    "  way[\"highway\"=\"primary_link\"](area.joloArea);\n",
    "  way[\"highway\"=\"secondary\"](area.joloArea);\n",
    "  way[\"highway\"=\"secondary_link\"](area.joloArea);\n",
    "  way[\"highway\"=\"tertiary\"](area.joloArea);\n",
    "  way[\"highway\"=\"tertiary_link\"](area.joloArea);\n",
    "  \n",
    "  // Local and residential roads - Jolo island\n",
    "  way[\"highway\"=\"unclassified\"](area.joloArea);\n",
    "  way[\"highway\"=\"residential\"](area.joloArea);\n",
    "  way[\"highway\"=\"living_street\"](area.joloArea);\n",
    "  way[\"highway\"=\"service\"](area.joloArea);\n",
    "  way[\"highway\"=\"road\"](area.joloArea);\n",
    "  \n",
    "  // Unpaved but driveable roads - Jolo island\n",
    "  way[\"highway\"=\"track\"][\"motor_vehicle\"!=\"no\"](area.joloArea);\n",
    "  way[\"highway\"=\"track\"][\"access\"!=\"no\"](area.joloArea);\n",
    "  \n",
    "  // Include ways explicitly marked as driveable - Jolo island\n",
    "  way[\"motor_vehicle\"=\"yes\"](area.joloArea);\n",
    "  way[\"access\"=\"yes\"][\"highway\"](area.joloArea);\n",
    "  \n",
    ");\n",
    "\n",
    "// print results\n",
    "out geom;\n",
    ">;\n",
    "out skel qt;"
   ]
  },
  {
   "cell_type": "code",
   "execution_count": null,
   "id": "7e28f5ac-961a-40d3-b713-ced0d2749e42",
   "metadata": {},
   "outputs": [],
   "source": []
  },
  {
   "cell_type": "code",
   "execution_count": null,
   "id": "29edbee9-c540-414c-b861-6e8f59feb6d7",
   "metadata": {},
   "outputs": [],
   "source": []
  },
  {
   "cell_type": "code",
   "execution_count": null,
   "id": "b9f2ff76-e3fc-40a7-88b4-dd7e0086d34b",
   "metadata": {},
   "outputs": [],
   "source": []
  }
 ],
 "metadata": {
  "kernelspec": {
   "display_name": "Python 3 (ipykernel)",
   "language": "python",
   "name": "python3"
  },
  "language_info": {
   "codemirror_mode": {
    "name": "ipython",
    "version": 3
   },
   "file_extension": ".py",
   "mimetype": "text/x-python",
   "name": "python",
   "nbconvert_exporter": "python",
   "pygments_lexer": "ipython3",
   "version": "3.11.6"
  }
 },
 "nbformat": 4,
 "nbformat_minor": 5
}
